{
  "nbformat": 4,
  "nbformat_minor": 0,
  "metadata": {
    "colab": {
      "name": "LogisticRegression-Notes.ipynb",
      "version": "0.3.2",
      "provenance": [],
      "collapsed_sections": []
    },
    "kernelspec": {
      "name": "python3",
      "display_name": "Python 3"
    }
  },
  "cells": [
    {
      "cell_type": "markdown",
      "metadata": {
        "id": "je7Im3MxQBiB",
        "colab_type": "text"
      },
      "source": [
        "# Logistic Regression\n",
        "\n",
        "- Logistic regression is a classification model, i.e. it will help you make predictions in cases where the output is a categorical variable. Since logistic regression is the most easily interpretable of all classification models, it is very commonly used in various industries such as banking, healthcare, etc.\n",
        "\n",
        "\n",
        "## Univariate Logistic Regression\n",
        "\n",
        "The topics that will be covered in this session are:\n",
        "\n",
        "- Binary classification\n",
        "\n",
        "- Sigmoid function\n",
        "\n",
        "- Likelihood function\n",
        "\n",
        "- Building a logistic regression model in Python\n",
        "\n",
        "- Odds and log odds\n",
        "\n",
        "\n",
        "### Binary Classification\n",
        "\n",
        "Classification problem where we will have two outputs(possible outcome) is called as Binary Classification problem.\n",
        "\n",
        "Examples -\n",
        "\n",
        "1. Loan Default.\n",
        "2. Email spam or ham.\n",
        "\n",
        "### Simple boundary decision -\n",
        "A binary classification problem, where a model is trying to predict whether a person has diabetes or not based on his/her blood sugar level. You saw how using a simple boundary decision method would not work in this case.\n",
        "\n",
        "\n",
        "### Sigmoid Curve -\n",
        "Sigmoid curve has all the properties you would want — extremely low values in the start, extremely high values in the end, and intermediate values in the middle — it’s a good choice for modelling the value of the probability of diabetes.\n",
        "y = P(Diabetes) = 1/1+e^1/(b0+b1x)\n",
        "\n",
        "The sigmoid curve actually has the properties -\n",
        "1. Extremely low values in the start.\n",
        "2. Extremely high values in the end.\n",
        "3. Intermediate values in the middle."
      ]
    },
    {
      "cell_type": "markdown",
      "metadata": {
        "id": "3vAso9lW-3ow",
        "colab_type": "text"
      },
      "source": [
        ""
      ]
    },
    {
      "cell_type": "code",
      "metadata": {
        "id": "YNT6MyprQAer",
        "colab_type": "code",
        "colab": {}
      },
      "source": [
        ""
      ],
      "execution_count": 0,
      "outputs": []
    }
  ]
}