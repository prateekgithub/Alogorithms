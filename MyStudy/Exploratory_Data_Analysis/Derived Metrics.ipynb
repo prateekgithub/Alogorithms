{
 "cells": [
  {
   "cell_type": "markdown",
   "metadata": {},
   "source": [
    "### Derived Metrics\n",
    "\n",
    "Which player scored the highest number of centuries?"
   ]
  },
  {
   "cell_type": "code",
   "execution_count": 5,
   "metadata": {},
   "outputs": [
    {
     "data": {
      "text/html": [
       "<div>\n",
       "<style scoped>\n",
       "    .dataframe tbody tr th:only-of-type {\n",
       "        vertical-align: middle;\n",
       "    }\n",
       "\n",
       "    .dataframe tbody tr th {\n",
       "        vertical-align: top;\n",
       "    }\n",
       "\n",
       "    .dataframe thead th {\n",
       "        text-align: right;\n",
       "    }\n",
       "</style>\n",
       "<table border=\"1\" class=\"dataframe\">\n",
       "  <thead>\n",
       "    <tr style=\"text-align: right;\">\n",
       "      <th></th>\n",
       "      <th>Country</th>\n",
       "      <th>Player</th>\n",
       "      <th>Runs</th>\n",
       "      <th>MatchDate</th>\n",
       "      <th>Weekday</th>\n",
       "      <th>Ground</th>\n",
       "      <th>Versus</th>\n",
       "      <th>Balls</th>\n",
       "    </tr>\n",
       "  </thead>\n",
       "  <tbody>\n",
       "    <tr>\n",
       "      <th>0</th>\n",
       "      <td>Afghanistan</td>\n",
       "      <td>Mohammad Shahzad</td>\n",
       "      <td>118</td>\n",
       "      <td>16-02-2010</td>\n",
       "      <td>Tue</td>\n",
       "      <td>Sharjah CA Stadium</td>\n",
       "      <td>Canada</td>\n",
       "      <td>121</td>\n",
       "    </tr>\n",
       "    <tr>\n",
       "      <th>1</th>\n",
       "      <td>Afghanistan</td>\n",
       "      <td>Mohammad Shahzad</td>\n",
       "      <td>110</td>\n",
       "      <td>01-09-2009</td>\n",
       "      <td>Tue</td>\n",
       "      <td>VRA Ground</td>\n",
       "      <td>Netherlands</td>\n",
       "      <td>111</td>\n",
       "    </tr>\n",
       "    <tr>\n",
       "      <th>2</th>\n",
       "      <td>Afghanistan</td>\n",
       "      <td>Mohammad Shahzad</td>\n",
       "      <td>100</td>\n",
       "      <td>16-08-2010</td>\n",
       "      <td>Mon</td>\n",
       "      <td>Cambusdoon New Ground</td>\n",
       "      <td>Scotland</td>\n",
       "      <td>72</td>\n",
       "    </tr>\n",
       "    <tr>\n",
       "      <th>3</th>\n",
       "      <td>Afghanistan</td>\n",
       "      <td>Mohammad Shahzad</td>\n",
       "      <td>82</td>\n",
       "      <td>10-07-2010</td>\n",
       "      <td>Sat</td>\n",
       "      <td>Hazelaarweg</td>\n",
       "      <td>Netherlands</td>\n",
       "      <td>108</td>\n",
       "    </tr>\n",
       "    <tr>\n",
       "      <th>4</th>\n",
       "      <td>Afghanistan</td>\n",
       "      <td>Mohammad Shahzad</td>\n",
       "      <td>57</td>\n",
       "      <td>01-07-2010</td>\n",
       "      <td>Thu</td>\n",
       "      <td>Sportpark Westvliet</td>\n",
       "      <td>Canada</td>\n",
       "      <td>57</td>\n",
       "    </tr>\n",
       "  </tbody>\n",
       "</table>\n",
       "</div>"
      ],
      "text/plain": [
       "       Country            Player  Runs   MatchDate Weekday  \\\n",
       "0  Afghanistan  Mohammad Shahzad   118  16-02-2010     Tue   \n",
       "1  Afghanistan  Mohammad Shahzad   110  01-09-2009     Tue   \n",
       "2  Afghanistan  Mohammad Shahzad   100  16-08-2010     Mon   \n",
       "3  Afghanistan  Mohammad Shahzad    82  10-07-2010     Sat   \n",
       "4  Afghanistan  Mohammad Shahzad    57  01-07-2010     Thu   \n",
       "\n",
       "                  Ground       Versus  Balls  \n",
       "0     Sharjah CA Stadium       Canada    121  \n",
       "1             VRA Ground  Netherlands    111  \n",
       "2  Cambusdoon New Ground     Scotland     72  \n",
       "3            Hazelaarweg  Netherlands    108  \n",
       "4    Sportpark Westvliet       Canada     57  "
      ]
     },
     "execution_count": 5,
     "metadata": {},
     "output_type": "execute_result"
    }
   ],
   "source": [
    "import pandas as pd\n",
    "\n",
    "df = pd.read_csv('odi-batting.csv',)\n",
    "df.head()"
   ]
  },
  {
   "cell_type": "code",
   "execution_count": 12,
   "metadata": {},
   "outputs": [
    {
     "name": "stderr",
     "output_type": "stream",
     "text": [
      "/anaconda3/lib/python3.7/site-packages/ipykernel_launcher.py:1: UserWarning: Boolean Series key will be reindexed to match DataFrame index.\n",
      "  \"\"\"Entry point for launching an IPython kernel.\n"
     ]
    },
    {
     "data": {
      "text/plain": [
       "Country      48\n",
       "Player       48\n",
       "Runs         48\n",
       "MatchDate    48\n",
       "Weekday      48\n",
       "Ground       48\n",
       "Versus       48\n",
       "Balls        48\n",
       "dtype: int64"
      ]
     },
     "execution_count": 12,
     "metadata": {},
     "output_type": "execute_result"
    }
   ],
   "source": [
    "df[df['Player'] == 'Sachin R Tendulkar'][df['Runs'] >= 100].count()"
   ]
  },
  {
   "cell_type": "code",
   "execution_count": 13,
   "metadata": {},
   "outputs": [
    {
     "name": "stderr",
     "output_type": "stream",
     "text": [
      "/anaconda3/lib/python3.7/site-packages/ipykernel_launcher.py:1: UserWarning: Boolean Series key will be reindexed to match DataFrame index.\n",
      "  \"\"\"Entry point for launching an IPython kernel.\n"
     ]
    },
    {
     "data": {
      "text/plain": [
       "Country      30\n",
       "Player       30\n",
       "Runs         30\n",
       "MatchDate    30\n",
       "Weekday      30\n",
       "Ground       30\n",
       "Versus       30\n",
       "Balls        30\n",
       "dtype: int64"
      ]
     },
     "execution_count": 13,
     "metadata": {},
     "output_type": "execute_result"
    }
   ],
   "source": [
    "df[df['Player'] == 'Ricky T Ponting'][df['Runs'] >= 100].count()"
   ]
  },
  {
   "cell_type": "code",
   "execution_count": 16,
   "metadata": {},
   "outputs": [
    {
     "name": "stderr",
     "output_type": "stream",
     "text": [
      "/anaconda3/lib/python3.7/site-packages/ipykernel_launcher.py:3: UserWarning: Boolean Series key will be reindexed to match DataFrame index.\n",
      "  This is separate from the ipykernel package so we can avoid doing imports until\n"
     ]
    },
    {
     "data": {
      "text/plain": [
       "28153    2.066667\n",
       "28154    1.159574\n",
       "28155    1.434211\n",
       "28156    1.173913\n",
       "28157    2.550000\n",
       "28158    2.217391\n",
       "dtype: float64"
      ]
     },
     "execution_count": 16,
     "metadata": {},
     "output_type": "execute_result"
    }
   ],
   "source": [
    "def strike_rate(row):\n",
    "    return (row['Runs']/row['Balls'])\n",
    "df[df['Player'] == 'Shahid Afridi'][df['Runs'] >= 100].apply(strike_rate,axis=1)\n"
   ]
  },
  {
   "cell_type": "markdown",
   "metadata": {},
   "source": [
    "In which year were the maximum number of centuries scored by Indian players?"
   ]
  },
  {
   "cell_type": "code",
   "execution_count": 23,
   "metadata": {},
   "outputs": [
    {
     "name": "stderr",
     "output_type": "stream",
     "text": [
      "/anaconda3/lib/python3.7/site-packages/ipykernel_launcher.py:5: UserWarning: Boolean Series key will be reindexed to match DataFrame index.\n",
      "  \"\"\"\n"
     ]
    }
   ],
   "source": [
    "def year(row):\n",
    "    return (row['MatchDate'].split('-')[2])\n",
    "df['Year']=df[df['Runs'] >= 100].apply(year,axis=1)\n",
    "df\n",
    "df2 = df[df['Country'] == 'India'][df['Runs'] >= 100]\n",
    "df2.set_index(\"Year\",inplace=True)"
   ]
  },
  {
   "cell_type": "code",
   "execution_count": 25,
   "metadata": {},
   "outputs": [
    {
     "name": "stdout",
     "output_type": "stream",
     "text": [
      "      Country  Player  Runs  MatchDate  Weekday  Ground  Versus  Balls\n",
      "Year                                                                  \n",
      "1983        1       1     1          1        1       1       1      1\n",
      "1984        3       3     3          3        3       3       3      3\n",
      "1986        2       2     2          2        2       2       2      2\n",
      "1987        4       4     4          4        4       4       4      4\n",
      "1988        5       5     5          5        5       5       5      5\n",
      "1989        2       2     2          2        2       2       2      2\n",
      "1990        3       3     3          3        3       3       3      3\n",
      "1991        2       2     2          2        2       2       2      2\n",
      "1992        1       1     1          1        1       1       1      1\n",
      "1993        2       2     2          2        2       2       2      2\n",
      "1994        7       7     7          7        7       7       7      7\n",
      "1995        1       1     1          1        1       1       1      1\n",
      "1996        8       8     8          8        8       8       8      8\n",
      "1997        7       7     7          7        7       7       7      7\n",
      "1998       18      18    18         18       18      18      18     18\n",
      "1999       15      15    15         15       15      15      15     15\n",
      "2000       10      10    10         10       10      10      10     10\n",
      "2001        9       9     9          9        9       9       9      9\n",
      "2002        9       9     9          9        9       9       9      9\n",
      "2003       10      10    10         10       10      10      10     10\n",
      "2004        7       7     7          7        7       7       7      7\n",
      "2005       11      11    11         11       11      11      11     11\n",
      "2006        5       5     5          5        5       5       5      5\n",
      "2007        5       5     5          5        5       5       5      5\n",
      "2008       10      10    10         10       10      10      10     10\n",
      "2009       13      13    13         13       13      13      13     13\n",
      "2010       12      12    12         12       12      12      12     12\n",
      "2011        8       8     8          8        8       8       8      8\n"
     ]
    }
   ],
   "source": [
    "count = df2.groupby(['Year']).count() \n",
    "print(count)"
   ]
  },
  {
   "cell_type": "markdown",
   "metadata": {},
   "source": [
    "### Extracting Day From a Date\n",
    "Description\n",
    "The given dataset 'order' has a variable 'Order_Date' with the dates of purchase.\n",
    "Create a new variable 'day' which will contain the day from the date at variable Order_Date."
   ]
  },
  {
   "cell_type": "code",
   "execution_count": 1,
   "metadata": {},
   "outputs": [
    {
     "name": "stdout",
     "output_type": "stream",
     "text": [
      "   Order_ID Order_Date Order_Priority  Ord_id  day\n",
      "0         3 2010-10-13            LOW   Ord_1   13\n",
      "1       293 2012-01-10           HIGH   Ord_2   10\n",
      "2       483 2011-10-07           HIGH   Ord_3    7\n",
      "3       515 2010-08-28  NOT SPECIFIED   Ord_4   28\n",
      "4       613 2011-06-17           HIGH   Ord_5   17\n",
      "5       643 2011-03-24           HIGH   Ord_6   24\n",
      "6       678 2010-02-26            LOW   Ord_7   26\n",
      "7       807 2010-11-23         MEDIUM   Ord_8   23\n",
      "8       868 2012-08-06  NOT SPECIFIED   Ord_9    6\n",
      "9       933 2012-04-08  NOT SPECIFIED  Ord_10    8\n"
     ]
    }
   ],
   "source": [
    "import pandas as pd\n",
    "order = pd.read_csv('https://query.data.world/s/3hIAtsCE7vYkPEL-O5DyWJAeS5Af-7')\n",
    "order['Order_Date'] = pd.to_datetime(order['Order_Date'])\n",
    "\n",
    "order['day'] = order['Order_Date'].dt.day\n",
    "\n",
    "print(order.head(10))"
   ]
  },
  {
   "cell_type": "code",
   "execution_count": null,
   "metadata": {},
   "outputs": [],
   "source": []
  }
 ],
 "metadata": {
  "kernelspec": {
   "display_name": "Python 3",
   "language": "python",
   "name": "python3"
  },
  "language_info": {
   "codemirror_mode": {
    "name": "ipython",
    "version": 3
   },
   "file_extension": ".py",
   "mimetype": "text/x-python",
   "name": "python",
   "nbconvert_exporter": "python",
   "pygments_lexer": "ipython3",
   "version": "3.7.1"
  }
 },
 "nbformat": 4,
 "nbformat_minor": 2
}
