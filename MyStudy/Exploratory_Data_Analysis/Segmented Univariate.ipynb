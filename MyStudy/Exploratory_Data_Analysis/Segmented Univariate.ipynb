{
 "cells": [
  {
   "cell_type": "markdown",
   "metadata": {},
   "source": [
    "### Segmented Analysis\n",
    "\n",
    "What percentage of females in the age group 20-24 are illiterate in India, i.e. out of all the females in the age group 20-24, what fraction is illiterate?"
   ]
  },
  {
   "cell_type": "code",
   "execution_count": 55,
   "metadata": {},
   "outputs": [
    {
     "data": {
      "text/html": [
       "<div>\n",
       "<style scoped>\n",
       "    .dataframe tbody tr th:only-of-type {\n",
       "        vertical-align: middle;\n",
       "    }\n",
       "\n",
       "    .dataframe tbody tr th {\n",
       "        vertical-align: top;\n",
       "    }\n",
       "\n",
       "    .dataframe thead th {\n",
       "        text-align: right;\n",
       "    }\n",
       "</style>\n",
       "<table border=\"1\" class=\"dataframe\">\n",
       "  <thead>\n",
       "    <tr style=\"text-align: right;\">\n",
       "      <th></th>\n",
       "      <th>Table_Name</th>\n",
       "      <th>State_Code</th>\n",
       "      <th>Distt_Code</th>\n",
       "      <th>Area_Name</th>\n",
       "      <th>Class</th>\n",
       "      <th>Age-group</th>\n",
       "      <th>Total_Persons</th>\n",
       "      <th>Total_Males</th>\n",
       "      <th>Total_Females</th>\n",
       "      <th>Illiterate_Persons</th>\n",
       "      <th>...</th>\n",
       "      <th>N_T_D_Females</th>\n",
       "      <th>T_D_Persons</th>\n",
       "      <th>T_D_Males</th>\n",
       "      <th>T_D_Females</th>\n",
       "      <th>G_Persons</th>\n",
       "      <th>G_Males</th>\n",
       "      <th>G_Females</th>\n",
       "      <th>U_Persons</th>\n",
       "      <th>U_Males</th>\n",
       "      <th>U_Females</th>\n",
       "    </tr>\n",
       "  </thead>\n",
       "  <tbody>\n",
       "    <tr>\n",
       "      <th>0</th>\n",
       "      <td>C2308</td>\n",
       "      <td>0</td>\n",
       "      <td>0</td>\n",
       "      <td>INDIA</td>\n",
       "      <td>Total</td>\n",
       "      <td>All ages</td>\n",
       "      <td>1210854977</td>\n",
       "      <td>623270258</td>\n",
       "      <td>587584719</td>\n",
       "      <td>447216165</td>\n",
       "      <td>...</td>\n",
       "      <td>345724</td>\n",
       "      <td>7238719</td>\n",
       "      <td>5354161</td>\n",
       "      <td>1884558</td>\n",
       "      <td>68288971</td>\n",
       "      <td>42120460</td>\n",
       "      <td>26168511</td>\n",
       "      <td>3031570</td>\n",
       "      <td>1647116</td>\n",
       "      <td>1384454</td>\n",
       "    </tr>\n",
       "    <tr>\n",
       "      <th>1</th>\n",
       "      <td>C2308</td>\n",
       "      <td>0</td>\n",
       "      <td>0</td>\n",
       "      <td>INDIA</td>\n",
       "      <td>Total</td>\n",
       "      <td>0-6</td>\n",
       "      <td>164515253</td>\n",
       "      <td>85752254</td>\n",
       "      <td>78762999</td>\n",
       "      <td>164515253</td>\n",
       "      <td>...</td>\n",
       "      <td>0</td>\n",
       "      <td>0</td>\n",
       "      <td>0</td>\n",
       "      <td>0</td>\n",
       "      <td>0</td>\n",
       "      <td>0</td>\n",
       "      <td>0</td>\n",
       "      <td>0</td>\n",
       "      <td>0</td>\n",
       "      <td>0</td>\n",
       "    </tr>\n",
       "    <tr>\n",
       "      <th>2</th>\n",
       "      <td>C2308</td>\n",
       "      <td>0</td>\n",
       "      <td>0</td>\n",
       "      <td>INDIA</td>\n",
       "      <td>Total</td>\n",
       "      <td>7</td>\n",
       "      <td>24826640</td>\n",
       "      <td>12903364</td>\n",
       "      <td>11923276</td>\n",
       "      <td>6748214</td>\n",
       "      <td>...</td>\n",
       "      <td>0</td>\n",
       "      <td>0</td>\n",
       "      <td>0</td>\n",
       "      <td>0</td>\n",
       "      <td>0</td>\n",
       "      <td>0</td>\n",
       "      <td>0</td>\n",
       "      <td>136465</td>\n",
       "      <td>75715</td>\n",
       "      <td>60750</td>\n",
       "    </tr>\n",
       "    <tr>\n",
       "      <th>3</th>\n",
       "      <td>C2308</td>\n",
       "      <td>0</td>\n",
       "      <td>0</td>\n",
       "      <td>INDIA</td>\n",
       "      <td>Total</td>\n",
       "      <td>8</td>\n",
       "      <td>26968373</td>\n",
       "      <td>14061937</td>\n",
       "      <td>12906436</td>\n",
       "      <td>4131414</td>\n",
       "      <td>...</td>\n",
       "      <td>0</td>\n",
       "      <td>0</td>\n",
       "      <td>0</td>\n",
       "      <td>0</td>\n",
       "      <td>0</td>\n",
       "      <td>0</td>\n",
       "      <td>0</td>\n",
       "      <td>96524</td>\n",
       "      <td>52561</td>\n",
       "      <td>43963</td>\n",
       "    </tr>\n",
       "    <tr>\n",
       "      <th>4</th>\n",
       "      <td>C2308</td>\n",
       "      <td>0</td>\n",
       "      <td>0</td>\n",
       "      <td>INDIA</td>\n",
       "      <td>Total</td>\n",
       "      <td>9</td>\n",
       "      <td>23424638</td>\n",
       "      <td>12214985</td>\n",
       "      <td>11209653</td>\n",
       "      <td>2491904</td>\n",
       "      <td>...</td>\n",
       "      <td>0</td>\n",
       "      <td>0</td>\n",
       "      <td>0</td>\n",
       "      <td>0</td>\n",
       "      <td>0</td>\n",
       "      <td>0</td>\n",
       "      <td>0</td>\n",
       "      <td>70452</td>\n",
       "      <td>38456</td>\n",
       "      <td>31996</td>\n",
       "    </tr>\n",
       "  </tbody>\n",
       "</table>\n",
       "<p>5 rows × 45 columns</p>\n",
       "</div>"
      ],
      "text/plain": [
       "  Table_Name  State_Code  Distt_Code Area_Name  Class Age-group  \\\n",
       "0      C2308           0           0     INDIA  Total  All ages   \n",
       "1      C2308           0           0     INDIA  Total       0-6   \n",
       "2      C2308           0           0     INDIA  Total         7   \n",
       "3      C2308           0           0     INDIA  Total         8   \n",
       "4      C2308           0           0     INDIA  Total         9   \n",
       "\n",
       "   Total_Persons  Total_Males  Total_Females  Illiterate_Persons    ...      \\\n",
       "0     1210854977    623270258      587584719           447216165    ...       \n",
       "1      164515253     85752254       78762999           164515253    ...       \n",
       "2       24826640     12903364       11923276             6748214    ...       \n",
       "3       26968373     14061937       12906436             4131414    ...       \n",
       "4       23424638     12214985       11209653             2491904    ...       \n",
       "\n",
       "   N_T_D_Females  T_D_Persons  T_D_Males  T_D_Females  G_Persons   G_Males  \\\n",
       "0         345724      7238719    5354161      1884558   68288971  42120460   \n",
       "1              0            0          0            0          0         0   \n",
       "2              0            0          0            0          0         0   \n",
       "3              0            0          0            0          0         0   \n",
       "4              0            0          0            0          0         0   \n",
       "\n",
       "   G_Females  U_Persons  U_Males  U_Females  \n",
       "0   26168511    3031570  1647116    1384454  \n",
       "1          0          0        0          0  \n",
       "2          0     136465    75715      60750  \n",
       "3          0      96524    52561      43963  \n",
       "4          0      70452    38456      31996  \n",
       "\n",
       "[5 rows x 45 columns]"
      ]
     },
     "execution_count": 55,
     "metadata": {},
     "output_type": "execute_result"
    }
   ],
   "source": [
    "import numpy as np\n",
    "import pandas as pd\n",
    "\n",
    "df = pd.read_csv('EDA_census_2.csv')\n",
    "df.head()"
   ]
  },
  {
   "cell_type": "code",
   "execution_count": 56,
   "metadata": {},
   "outputs": [
    {
     "name": "stderr",
     "output_type": "stream",
     "text": [
      "/anaconda3/lib/python3.7/site-packages/ipykernel_launcher.py:1: UserWarning: Boolean Series key will be reindexed to match DataFrame index.\n",
      "  \"\"\"Entry point for launching an IPython kernel.\n",
      "/anaconda3/lib/python3.7/site-packages/ipykernel_launcher.py:2: UserWarning: Boolean Series key will be reindexed to match DataFrame index.\n",
      "  \n"
     ]
    }
   ],
   "source": [
    "Total_F_20_24 = df[df['Age-group']=='20-24'][df['Area_Name'] == 'INDIA'][df['Class']=='Total']['Total_Females']\n",
    "Total_F_I_20_24 = df[df['Age-group']=='20-24'][df['Area_Name'] == 'INDIA'][df['Class']=='Total']['Illiterate_Females']"
   ]
  },
  {
   "cell_type": "code",
   "execution_count": 57,
   "metadata": {},
   "outputs": [
    {
     "data": {
      "text/plain": [
       "15    22.683085\n",
       "dtype: float64"
      ]
     },
     "execution_count": 57,
     "metadata": {},
     "output_type": "execute_result"
    }
   ],
   "source": [
    "(Total_F_I_20_24/Total_F_20_24)*100"
   ]
  },
  {
   "cell_type": "markdown",
   "metadata": {},
   "source": [
    "Compare the literacy rates (i.e. the number of literates / total number of population) in each age group and choose the correct option."
   ]
  },
  {
   "cell_type": "code",
   "execution_count": 58,
   "metadata": {},
   "outputs": [
    {
     "name": "stderr",
     "output_type": "stream",
     "text": [
      "/anaconda3/lib/python3.7/site-packages/ipykernel_launcher.py:1: UserWarning: Boolean Series key will be reindexed to match DataFrame index.\n",
      "  \"\"\"Entry point for launching an IPython kernel.\n"
     ]
    },
    {
     "data": {
      "text/plain": [
       "Age-group\n",
       "All ages          63.066084\n",
       "0-6                0.000000\n",
       "7                 72.818658\n",
       "8                 84.680522\n",
       "9                 89.362038\n",
       "10                88.693071\n",
       "11                91.962826\n",
       "12                91.421234\n",
       "13                92.543554\n",
       "14                91.682750\n",
       "15                89.961344\n",
       "16                89.783437\n",
       "17                90.392562\n",
       "18                86.665872\n",
       "19                87.637647\n",
       "20-24             83.235699\n",
       "25-29             77.681141\n",
       "30-34             72.538435\n",
       "35-39             67.274016\n",
       "40-44             62.993414\n",
       "45-49             59.758607\n",
       "50-54             57.565672\n",
       "55-59             54.830491\n",
       "60-64             46.926523\n",
       "65-69             43.943993\n",
       "70-74             39.774485\n",
       "75-79             41.931327\n",
       "80+               38.963204\n",
       "Age not stated    64.559417\n",
       "dtype: float64"
      ]
     },
     "execution_count": 58,
     "metadata": {},
     "output_type": "execute_result"
    }
   ],
   "source": [
    "df2 = df[df['Area_Name']=='INDIA'][df['Class']=='Total']\n",
    "df2.set_index(\"Age-group\",inplace=True)\n",
    "def per_lit_each_age_group(row):\n",
    "    if (row['Literate_Persons'] == '0'):\n",
    "        return None\n",
    "    return (row['Literate_Persons']/row['Total_Persons'])*100\n",
    "df2.apply(per_lit_each_age_group,axis=1)"
   ]
  },
  {
   "cell_type": "markdown",
   "metadata": {},
   "source": [
    "Which state shows the highest female literacy rate?"
   ]
  },
  {
   "cell_type": "code",
   "execution_count": 61,
   "metadata": {},
   "outputs": [
    {
     "name": "stderr",
     "output_type": "stream",
     "text": [
      "/anaconda3/lib/python3.7/site-packages/ipykernel_launcher.py:5: UserWarning: Boolean Series key will be reindexed to match DataFrame index.\n",
      "  \"\"\"\n"
     ]
    },
    {
     "data": {
      "text/plain": [
       "Area_Name\n",
       "INDIA                                55.970685\n",
       "State - JAMMU & KASHMIR              47.495899\n",
       "State - HIMACHAL PRADESH             67.612451\n",
       "State - PUNJAB                       63.119362\n",
       "State - CHANDIGARH                   71.630436\n",
       "State - UTTARAKHAND                  60.972687\n",
       "State - HARYANA                      57.392908\n",
       "State - NCT OF DELHI                 71.057359\n",
       "State - RAJASTHAN                    44.206066\n",
       "State - UTTAR PRADESH                48.423061\n",
       "State - BIHAR                        41.942968\n",
       "State - SIKKIM                       67.366360\n",
       "State - ARUNACHAL PRADESH            48.690609\n",
       "State - NAGALAND                     64.839865\n",
       "State - MANIPUR                      61.290791\n",
       "State - MIZORAM                      75.598994\n",
       "State - TRIPURA                      72.430359\n",
       "State - MEGHALAYA                    59.057108\n",
       "State - ASSAM                        56.395015\n",
       "State - WEST BENGAL                  62.337050\n",
       "State - JHARKHAND                    46.367131\n",
       "State - ODISHA                       56.125942\n",
       "State - CHHATTISGARH                 51.698178\n",
       "State - MADHYA PRADESH               50.484341\n",
       "State - GUJARAT                      60.861621\n",
       "State - DAMAN & DIU                  68.602199\n",
       "State - DADRA & NAGAR HAVELI         53.824300\n",
       "State - MAHARASHTRA                  67.053112\n",
       "State - ANDHRA PRADESH               52.933654\n",
       "State - KARNATAKA                    60.204679\n",
       "State - GOA                          76.405363\n",
       "State - LAKSHADWEEP                  78.245614\n",
       "State - KERALA                       83.038221\n",
       "State - TAMIL NADU                   66.086200\n",
       "State - PUDUCHERRY                   72.379698\n",
       "State - ANDAMAN & NICOBAR ISLANDS    73.098869\n",
       "dtype: float64"
      ]
     },
     "execution_count": 61,
     "metadata": {},
     "output_type": "execute_result"
    }
   ],
   "source": [
    "def per_lit_f_each_state(row):\n",
    "    if (row['Literate_Persons'] == '0'):\n",
    "        return None\n",
    "    return (row['Literate_Females']/row['Total_Females'])*100\n",
    "df2 = df[df['Class']=='Total'][df['Age-group']=='All ages']\n",
    "df2.set_index(\"Area_Name\",inplace=True)\n",
    "df2.apply(per_lit_f_each_state,axis=1)"
   ]
  },
  {
   "cell_type": "markdown",
   "metadata": {},
   "source": [
    "Across all the states, which state shows the lowest literacy rate in 2011 (total population)?"
   ]
  },
  {
   "cell_type": "code",
   "execution_count": 62,
   "metadata": {},
   "outputs": [
    {
     "name": "stderr",
     "output_type": "stream",
     "text": [
      "/anaconda3/lib/python3.7/site-packages/ipykernel_launcher.py:5: UserWarning: Boolean Series key will be reindexed to match DataFrame index.\n",
      "  \"\"\"\n"
     ]
    },
    {
     "data": {
      "text/plain": [
       "Area_Name\n",
       "INDIA                                55.970685\n",
       "State - JAMMU & KASHMIR              47.495899\n",
       "State - HIMACHAL PRADESH             67.612451\n",
       "State - PUNJAB                       63.119362\n",
       "State - CHANDIGARH                   71.630436\n",
       "State - UTTARAKHAND                  60.972687\n",
       "State - HARYANA                      57.392908\n",
       "State - NCT OF DELHI                 71.057359\n",
       "State - RAJASTHAN                    44.206066\n",
       "State - UTTAR PRADESH                48.423061\n",
       "State - BIHAR                        41.942968\n",
       "State - SIKKIM                       67.366360\n",
       "State - ARUNACHAL PRADESH            48.690609\n",
       "State - NAGALAND                     64.839865\n",
       "State - MANIPUR                      61.290791\n",
       "State - MIZORAM                      75.598994\n",
       "State - TRIPURA                      72.430359\n",
       "State - MEGHALAYA                    59.057108\n",
       "State - ASSAM                        56.395015\n",
       "State - WEST BENGAL                  62.337050\n",
       "State - JHARKHAND                    46.367131\n",
       "State - ODISHA                       56.125942\n",
       "State - CHHATTISGARH                 51.698178\n",
       "State - MADHYA PRADESH               50.484341\n",
       "State - GUJARAT                      60.861621\n",
       "State - DAMAN & DIU                  68.602199\n",
       "State - DADRA & NAGAR HAVELI         53.824300\n",
       "State - MAHARASHTRA                  67.053112\n",
       "State - ANDHRA PRADESH               52.933654\n",
       "State - KARNATAKA                    60.204679\n",
       "State - GOA                          76.405363\n",
       "State - LAKSHADWEEP                  78.245614\n",
       "State - KERALA                       83.038221\n",
       "State - TAMIL NADU                   66.086200\n",
       "State - PUDUCHERRY                   72.379698\n",
       "State - ANDAMAN & NICOBAR ISLANDS    73.098869\n",
       "dtype: float64"
      ]
     },
     "execution_count": 62,
     "metadata": {},
     "output_type": "execute_result"
    }
   ],
   "source": [
    "def per_lit_each_state(row):\n",
    "    if (row['Literate_Persons'] == '0'):\n",
    "        return None\n",
    "    return (row['Literate_Persons']/row['Total_Persons'])*100\n",
    "df2 = df[df['Class']=='Total'][df['Age-group']=='All ages']\n",
    "df2.set_index(\"Area_Name\",inplace=True)\n",
    "df2.apply(per_lit_f_each_state,axis=1)"
   ]
  },
  {
   "cell_type": "code",
   "execution_count": null,
   "metadata": {},
   "outputs": [],
   "source": []
  }
 ],
 "metadata": {
  "kernelspec": {
   "display_name": "Python 3",
   "language": "python",
   "name": "python3"
  },
  "language_info": {
   "codemirror_mode": {
    "name": "ipython",
    "version": 3
   },
   "file_extension": ".py",
   "mimetype": "text/x-python",
   "name": "python",
   "nbconvert_exporter": "python",
   "pygments_lexer": "ipython3",
   "version": "3.7.1"
  }
 },
 "nbformat": 4,
 "nbformat_minor": 2
}
