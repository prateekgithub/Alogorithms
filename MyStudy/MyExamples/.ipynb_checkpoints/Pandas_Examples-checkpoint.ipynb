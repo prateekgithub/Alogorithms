{
 "cells": [
  {
   "cell_type": "markdown",
   "metadata": {},
   "source": [
    "https://data36.com/pandas-tutorial-1-basics-reading-data-files-dataframes-data-selection/"
   ]
  },
  {
   "cell_type": "code",
   "execution_count": 1,
   "metadata": {},
   "outputs": [
    {
     "data": {
      "text/plain": [
       "0         NaN\n",
       "1         NaN\n",
       "2         NaN\n",
       "3         NaN\n",
       "4         NaN\n",
       "5         NaN\n",
       "6         NaN\n",
       "7         NaN\n",
       "8         NaN\n",
       "9         NaN\n",
       "10        NaN\n",
       "11        NaN\n",
       "12        NaN\n",
       "13        NaN\n",
       "14        NaN\n",
       "15        NaN\n",
       "16        NaN\n",
       "17     Female\n",
       "18       Male\n",
       "19        NaN\n",
       "20        NaN\n",
       "21        NaN\n",
       "22        NaN\n",
       "23        NaN\n",
       "24        NaN\n",
       "25     Female\n",
       "26        NaN\n",
       "27        NaN\n",
       "28       Male\n",
       "29        NaN\n",
       "        ...  \n",
       "144       NaN\n",
       "145       NaN\n",
       "146       NaN\n",
       "147       NaN\n",
       "148       NaN\n",
       "149       NaN\n",
       "150    Female\n",
       "151       NaN\n",
       "152       NaN\n",
       "153       NaN\n",
       "154       NaN\n",
       "155       NaN\n",
       "156       NaN\n",
       "157      Male\n",
       "158       NaN\n",
       "159      Male\n",
       "160       NaN\n",
       "161       NaN\n",
       "162       NaN\n",
       "163       NaN\n",
       "164       NaN\n",
       "165       NaN\n",
       "166      Male\n",
       "167       NaN\n",
       "168       NaN\n",
       "169       NaN\n",
       "170       NaN\n",
       "171       NaN\n",
       "172       NaN\n",
       "173       NaN\n",
       "Name: Gender, Length: 174, dtype: object"
      ]
     },
     "execution_count": 1,
     "metadata": {},
     "output_type": "execute_result"
    }
   ],
   "source": [
    "import pandas as pd\n",
    "import numpy as np\n",
    "import re\n",
    "\n",
    "\n",
    "df = pd.read_csv(\"ML_cohort_8.csv\", delimiter = ',')\n",
    "\n",
    "df['Gender']"
   ]
  },
  {
   "cell_type": "code",
   "execution_count": null,
   "metadata": {},
   "outputs": [],
   "source": []
  }
 ],
 "metadata": {
  "kernelspec": {
   "display_name": "Python 3",
   "language": "python",
   "name": "python3"
  },
  "language_info": {
   "codemirror_mode": {
    "name": "ipython",
    "version": 3
   },
   "file_extension": ".py",
   "mimetype": "text/x-python",
   "name": "python",
   "nbconvert_exporter": "python",
   "pygments_lexer": "ipython3",
   "version": "3.7.1"
  }
 },
 "nbformat": 4,
 "nbformat_minor": 2
}
