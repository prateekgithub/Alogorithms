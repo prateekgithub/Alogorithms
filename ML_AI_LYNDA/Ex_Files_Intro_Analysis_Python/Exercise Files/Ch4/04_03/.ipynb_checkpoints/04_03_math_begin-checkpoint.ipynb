{
 "cells": [
  {
   "cell_type": "code",
   "execution_count": 1,
   "metadata": {},
   "outputs": [],
   "source": [
    "import numpy as np\n",
    "import matplotlib.pyplot as pp\n",
    "\n",
    "%matplotlib inline"
   ]
  },
  {
   "cell_type": "code",
   "execution_count": 2,
   "metadata": {},
   "outputs": [],
   "source": [
    "x = np.linspace(0, 10, 40)"
   ]
  },
  {
   "cell_type": "code",
   "execution_count": 3,
   "metadata": {},
   "outputs": [
    {
     "data": {
      "text/plain": [
       "array([ 0.        ,  0.25641026,  0.51282051,  0.76923077,  1.02564103,\n",
       "        1.28205128,  1.53846154,  1.79487179,  2.05128205,  2.30769231,\n",
       "        2.56410256,  2.82051282,  3.07692308,  3.33333333,  3.58974359,\n",
       "        3.84615385,  4.1025641 ,  4.35897436,  4.61538462,  4.87179487,\n",
       "        5.12820513,  5.38461538,  5.64102564,  5.8974359 ,  6.15384615,\n",
       "        6.41025641,  6.66666667,  6.92307692,  7.17948718,  7.43589744,\n",
       "        7.69230769,  7.94871795,  8.20512821,  8.46153846,  8.71794872,\n",
       "        8.97435897,  9.23076923,  9.48717949,  9.74358974, 10.        ])"
      ]
     },
     "execution_count": 3,
     "metadata": {},
     "output_type": "execute_result"
    }
   ],
   "source": [
    "x"
   ]
  },
  {
   "cell_type": "code",
   "execution_count": 5,
   "metadata": {},
   "outputs": [],
   "source": [
    "sinx = np.sin(x)"
   ]
  },
  {
   "cell_type": "code",
   "execution_count": null,
   "metadata": {},
   "outputs": [],
   "source": []
  }
 ],
 "metadata": {
  "kernelspec": {
   "display_name": "Python 3",
   "language": "python",
   "name": "python3"
  },
  "language_info": {
   "codemirror_mode": {
    "name": "ipython",
    "version": 3
   },
   "file_extension": ".py",
   "mimetype": "text/x-python",
   "name": "python",
   "nbconvert_exporter": "python",
   "pygments_lexer": "ipython3",
   "version": "3.7.1"
  }
 },
 "nbformat": 4,
 "nbformat_minor": 1
}
