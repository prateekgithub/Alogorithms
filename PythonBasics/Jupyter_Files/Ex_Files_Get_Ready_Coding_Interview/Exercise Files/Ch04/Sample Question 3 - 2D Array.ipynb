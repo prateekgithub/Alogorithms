{
 "cells": [
  {
   "cell_type": "markdown",
   "metadata": {},
   "source": [
    "# Problem: Can rooks attack one another?\n",
    "\n",
    "You are given a configuration of a chessboard with rooks in a 2 dimensional array.\n",
    "\n",
    "Example Input:  \n",
    "[[1, 0, 0, 0],  \n",
    " [0, 1, 0, 0],  \n",
    " [0, 0, 0, 1],  \n",
    " [0, 0, 0, 0]]\n",
    "\n",
    "1 represents that a rook is in the corresponding space on the board, and 0 represents that there's nothing there.\n",
    "\n",
    "***Remember, rooks are able to move horizontally and vertically over any number of spaces.***\n",
    "\n",
    "Write a function, rooks_are_safe(input) which returns True if none of the rooks can attack each other."
   ]
  },
  {
   "cell_type": "markdown",
   "metadata": {},
   "source": [
    "### NOTE: Make sure to run your program once you write it :)"
   ]
  },
  {
   "cell_type": "markdown",
   "metadata": {},
   "source": [
    "# Implement your function below."
   ]
  },
  {
   "cell_type": "code",
   "execution_count": 39,
   "metadata": {},
   "outputs": [],
   "source": [
    "# Input:\n",
    "#  chessboard: A 2-dimensional array that represents.  Example below.\n",
    "#  [[1, 0, 0, 0],\n",
    "#  [0, 1, 0, 0],\n",
    "#  [0, 0, 0, 1],\n",
    "#  [0, 0, 0, 0]]\n",
    "# Returns:\n",
    "#  True if none of the rooks can attack each other.\n",
    "#  False if there is at least one pair of rooks that can attack each other.\n",
    "import time\n",
    "\n",
    "def calc_time(func):\n",
    "    def wrapper(*args, **kwargs):\n",
    "        start = time.time()\n",
    "        print(func(*args, **kwargs))\n",
    "        end = time.time()\n",
    "        time_taken = (end - start)*1000\n",
    "        print('Elapsed Time: {} ms'.format(time_taken))\n",
    "    return wrapper\n",
    "\n",
    "@calc_time\n",
    "def my_rooks_are_safe(chessboard):\n",
    "    n = len(chessboard)\n",
    "    col_pos = []\n",
    "    for i in range(n):\n",
    "        row = 0\n",
    "        for j in range(n):\n",
    "            if chessboard[i][j] == 1:\n",
    "                row += 1\n",
    "                if j in col_pos:\n",
    "                    return False\n",
    "                else:\n",
    "                    col_pos.append(j)\n",
    "        if row > 1:\n",
    "            return False\n",
    "    return True\n",
    "\n",
    "@calc_time\n",
    "def rooks_are_safe(chessboard):\n",
    "    n = len(chessboard)\n",
    "    \n",
    "    for row_i in range(n):\n",
    "        row_count = 0\n",
    "        for col_i in range(n):\n",
    "            row_count += chessboard[row_i][col_i]\n",
    "        if row_count > 1:\n",
    "            return False\n",
    "    \n",
    "    for col_i in range(n):\n",
    "        col_count = 0\n",
    "        for row_i in range(n):\n",
    "            col_count += chessboard[row_i][col_i]\n",
    "        if col_count > 1:\n",
    "            return False\n",
    "        \n",
    "    return True"
   ]
  },
  {
   "cell_type": "markdown",
   "metadata": {},
   "source": [
    "# Use the code below to test your function."
   ]
  },
  {
   "cell_type": "code",
   "execution_count": 40,
   "metadata": {},
   "outputs": [
    {
     "name": "stdout",
     "output_type": "stream",
     "text": [
      "\n",
      "Are rooks safe in this board? (Should be True.)\n",
      "[[1, 0, 0, 0],\n",
      " [0, 1, 0, 0],\n",
      " [0, 0, 0, 1],\n",
      " [0, 0, 0, 0]]\n",
      "\n",
      "True\n",
      "Elapsed Time: 0.03695487976074219 ms\n",
      "True\n",
      "Elapsed Time: 0.03504753112792969 ms\n"
     ]
    }
   ],
   "source": [
    "print(\"\"\"\n",
    "Are rooks safe in this board? (Should be True.)\n",
    "[[1, 0, 0, 0],\n",
    " [0, 1, 0, 0],\n",
    " [0, 0, 0, 1],\n",
    " [0, 0, 0, 0]]\n",
    "\"\"\")\n",
    "\n",
    "rooks_are_safe(\n",
    "[[1, 0, 0, 0],\n",
    " [0, 1, 0, 0],\n",
    " [0, 0, 0, 1],\n",
    " [0, 0, 0, 0]])\n",
    "\n",
    "my_rooks_are_safe(\n",
    "[[1, 0, 0, 0],\n",
    " [0, 1, 0, 0],\n",
    " [0, 0, 0, 1],\n",
    " [0, 0, 0, 0]])"
   ]
  },
  {
   "cell_type": "code",
   "execution_count": 41,
   "metadata": {},
   "outputs": [
    {
     "name": "stdout",
     "output_type": "stream",
     "text": [
      "\n",
      "Are rooks safe in this board? (Should be True.)\n",
      "[[1]]\n",
      "\n",
      "True\n",
      "Elapsed Time: 0.031948089599609375 ms\n",
      "True\n",
      "Elapsed Time: 0.030040740966796875 ms\n"
     ]
    }
   ],
   "source": [
    "print(\"\"\"\n",
    "Are rooks safe in this board? (Should be True.)\n",
    "[[1]]\n",
    "\"\"\")\n",
    "\n",
    "rooks_are_safe([[1]])\n",
    "my_rooks_are_safe([[1]])"
   ]
  },
  {
   "cell_type": "code",
   "execution_count": 42,
   "metadata": {},
   "outputs": [
    {
     "name": "stdout",
     "output_type": "stream",
     "text": [
      "\n",
      "Are rooks safe in this board? (Should be False.)\n",
      "[[1, 0],\n",
      " [1, 0]]\n",
      "\n",
      "False\n",
      "Elapsed Time: 0.03504753112792969 ms\n",
      "False\n",
      "Elapsed Time: 0.030994415283203125 ms\n"
     ]
    }
   ],
   "source": [
    "print(\"\"\"\n",
    "Are rooks safe in this board? (Should be False.)\n",
    "[[1, 0],\n",
    " [1, 0]]\n",
    "\"\"\")\n",
    "\n",
    "rooks_are_safe(\n",
    "[[1, 0],\n",
    " [1, 0]])\n",
    "\n",
    "my_rooks_are_safe(\n",
    "[[1, 0],\n",
    " [1, 0]])"
   ]
  },
  {
   "cell_type": "code",
   "execution_count": 43,
   "metadata": {},
   "outputs": [
    {
     "name": "stdout",
     "output_type": "stream",
     "text": [
      "\n",
      "Are rooks safe in this board? (Should be False.)\n",
      "[[0, 0, 0],\n",
      " [1, 0, 1],\n",
      " [0, 0, 0]]\n",
      "\n",
      "False\n",
      "Elapsed Time: 0.029802322387695312 ms\n",
      "False\n",
      "Elapsed Time: 0.029087066650390625 ms\n"
     ]
    }
   ],
   "source": [
    "print(\"\"\"\n",
    "Are rooks safe in this board? (Should be False.)\n",
    "[[0, 0, 0],\n",
    " [1, 0, 1],\n",
    " [0, 0, 0]]\n",
    "\"\"\")\n",
    "\n",
    "rooks_are_safe(\n",
    "[[0, 0, 0],\n",
    " [1, 0, 1],\n",
    " [0, 0, 0]])\n",
    "\n",
    "my_rooks_are_safe(\n",
    "[[0, 0, 0],\n",
    " [1, 0, 1],\n",
    " [0, 0, 0]])"
   ]
  },
  {
   "cell_type": "code",
   "execution_count": null,
   "metadata": {},
   "outputs": [],
   "source": []
  },
  {
   "cell_type": "code",
   "execution_count": null,
   "metadata": {},
   "outputs": [],
   "source": []
  }
 ],
 "metadata": {
  "anaconda-cloud": {},
  "kernelspec": {
   "display_name": "Python 3",
   "language": "python",
   "name": "python3"
  },
  "language_info": {
   "codemirror_mode": {
    "name": "ipython",
    "version": 3
   },
   "file_extension": ".py",
   "mimetype": "text/x-python",
   "name": "python",
   "nbconvert_exporter": "python",
   "pygments_lexer": "ipython3",
   "version": "3.7.1"
  }
 },
 "nbformat": 4,
 "nbformat_minor": 1
}
