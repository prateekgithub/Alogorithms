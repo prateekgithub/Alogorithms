{
 "cells": [
  {
   "cell_type": "markdown",
   "metadata": {},
   "source": [
    "# Problem: Counting the number of negative numbers.\n",
    "\n",
    "You are given a 2-dimensional array with integers.\n",
    "\n",
    "Example Input:  \n",
    "[[-4, -3, -1, 1],  \n",
    "&nbsp;[-2, -2,  1, 2],  \n",
    "&nbsp;[-1,&nbsp; 1,&nbsp; 2, 3],  \n",
    "&nbsp;[ 1,&nbsp; 2,&nbsp; 4, 5]]\n",
    "\n",
    "Write a function, count_negatives(input), which finds and returns the number of negative integers in th array."
   ]
  },
  {
   "cell_type": "markdown",
   "metadata": {},
   "source": [
    "### NOTE: Make sure to run your program once you write it :)"
   ]
  },
  {
   "cell_type": "markdown",
   "metadata": {},
   "source": [
    "# Implement your function below."
   ]
  },
  {
   "cell_type": "code",
   "execution_count": 16,
   "metadata": {},
   "outputs": [],
   "source": [
    "# Input: A 2-dimensional array with integers.  Example below.\n",
    "#[[-4, -3, -1, 1],\n",
    "# [-2, -2,  1, 2],\n",
    "# [-1,  1,  2, 3],\n",
    "# [ 1,  2,  4, 5]]\n",
    "# Returns:\n",
    "#  The number of negative numbers in the array.\n",
    "#  In the above case, this function should return 6\n",
    "#  since there are 6 negative numbers in the array.\n",
    "def count_negatives_On2(given_array):\n",
    "    n = len(given_array)\n",
    "    num_neg = 0\n",
    "    for i in range(n):\n",
    "        for j in range(n):\n",
    "            if given_array[i][j] < 0:\n",
    "                num_neg += 1\n",
    "    return num_neg\n",
    "\n",
    "def count_negatives(given_array):\n",
    "    n = len(given_array)\n",
    "    num_neg = 0\n",
    "    c = n-1\n",
    "    r = 0\n",
    "    while c >= 0 and r < n:\n",
    "        if given_array[r][c] >= 0:\n",
    "            c -= 1\n",
    "        else:\n",
    "            num_neg = num_neg+(c+1)\n",
    "            r += 1\n",
    "    return num_neg"
   ]
  },
  {
   "cell_type": "markdown",
   "metadata": {},
   "source": [
    "# Use the code below to test your function."
   ]
  },
  {
   "cell_type": "code",
   "execution_count": 17,
   "metadata": {},
   "outputs": [
    {
     "name": "stdout",
     "output_type": "stream",
     "text": [
      "\n",
      "How many negative numbers are there in the following array?\n",
      "(There are 6.)\n",
      "\n",
      "[[-4, -3, -1, 1],\n",
      " [-2, -2,  1, 2],\n",
      " [-1,  1,  2, 3],\n",
      " [ 1,  2,  4, 5]]\n",
      "\n"
     ]
    },
    {
     "data": {
      "text/plain": [
       "6"
      ]
     },
     "execution_count": 17,
     "metadata": {},
     "output_type": "execute_result"
    }
   ],
   "source": [
    "print(\"\"\"\n",
    "How many negative numbers are there in the following array?\n",
    "(There are 6.)\n",
    "\n",
    "[[-4, -3, -1, 1],\n",
    " [-2, -2,  1, 2],\n",
    " [-1,  1,  2, 3],\n",
    " [ 1,  2,  4, 5]]\n",
    "\"\"\")\n",
    "\n",
    "count_negatives(\n",
    "[[-4, -3, -1, 1],\n",
    " [-2, -2,  1, 2],\n",
    " [-1,  1,  2, 3],\n",
    " [ 1,  2,  4, 5]])"
   ]
  },
  {
   "cell_type": "code",
   "execution_count": 18,
   "metadata": {},
   "outputs": [
    {
     "name": "stdout",
     "output_type": "stream",
     "text": [
      "\n",
      "How many negative numbers are there in the following array?\n",
      "(There is 1.)\n",
      "\n",
      "[[-1, 0],\n",
      " [0,  0]]\n",
      "\n"
     ]
    },
    {
     "data": {
      "text/plain": [
       "1"
      ]
     },
     "execution_count": 18,
     "metadata": {},
     "output_type": "execute_result"
    }
   ],
   "source": [
    "print(\"\"\"\n",
    "How many negative numbers are there in the following array?\n",
    "(There is 1.)\n",
    "\n",
    "[[-1, 0],\n",
    " [0,  0]]\n",
    "\"\"\")\n",
    "\n",
    "count_negatives(\n",
    "[[-1, 0],\n",
    " [0,  0]])"
   ]
  },
  {
   "cell_type": "code",
   "execution_count": 19,
   "metadata": {},
   "outputs": [
    {
     "name": "stdout",
     "output_type": "stream",
     "text": [
      "\n",
      "How many negative numbers are there in the following array?\n",
      "(There are 2.)\n",
      "\n",
      "[[-2, 0],\n",
      " [-1, 0]]\n",
      "\n"
     ]
    },
    {
     "data": {
      "text/plain": [
       "2"
      ]
     },
     "execution_count": 19,
     "metadata": {},
     "output_type": "execute_result"
    }
   ],
   "source": [
    "print(\"\"\"\n",
    "How many negative numbers are there in the following array?\n",
    "(There are 2.)\n",
    "\n",
    "[[-2, 0],\n",
    " [-1, 0]]\n",
    "\"\"\")\n",
    "\n",
    "count_negatives(\n",
    "[[-2, 0],\n",
    " [-1, 0]])"
   ]
  },
  {
   "cell_type": "code",
   "execution_count": 20,
   "metadata": {},
   "outputs": [
    {
     "name": "stdout",
     "output_type": "stream",
     "text": [
      "\n",
      "How many negative numbers are there in the following array?\n",
      "(There are none.)\n",
      "\n",
      "[[0]]\n",
      "\n"
     ]
    },
    {
     "data": {
      "text/plain": [
       "0"
      ]
     },
     "execution_count": 20,
     "metadata": {},
     "output_type": "execute_result"
    }
   ],
   "source": [
    "print(\"\"\"\n",
    "How many negative numbers are there in the following array?\n",
    "(There are none.)\n",
    "\n",
    "[[0]]\n",
    "\"\"\")\n",
    "\n",
    "count_negatives([[0]])"
   ]
  },
  {
   "cell_type": "code",
   "execution_count": null,
   "metadata": {},
   "outputs": [],
   "source": []
  }
 ],
 "metadata": {
  "anaconda-cloud": {},
  "kernelspec": {
   "display_name": "Python 3",
   "language": "python",
   "name": "python3"
  },
  "language_info": {
   "codemirror_mode": {
    "name": "ipython",
    "version": 3
   },
   "file_extension": ".py",
   "mimetype": "text/x-python",
   "name": "python",
   "nbconvert_exporter": "python",
   "pygments_lexer": "ipython3",
   "version": "3.7.1"
  }
 },
 "nbformat": 4,
 "nbformat_minor": 1
}
